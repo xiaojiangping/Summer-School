{
 "cells": [
  {
   "cell_type": "markdown",
   "metadata": {},
   "source": [
    "# Maximum Likelihood Estimate(MLE) 最大似然估计"
   ]
  },
  {
   "cell_type": "markdown",
   "metadata": {},
   "source": [
    "Name: [肖江平]\n"
   ]
  },
  {
   "cell_type": "markdown",
   "metadata": {},
   "source": [
    "<script type=\"text/javascript\" src=\"http://cdn.mathjax.org/mathjax/latest/MathJax.js?config=default\"></script><font size=4>\n",
    "\n",
    "1.设总体概率函数如下, $x_1, \\dots ,x_n$是样本, 试求未知参数的最大似然估计.\n",
    "\n",
    "(1) $p(x; \\theta)=\\sqrt{\\theta}x^{\\sqrt{\\theta}-1}, 0<x<1, \\theta>0$;\n",
    "\n",
    "(2) $p(x; \\theta)=\\theta c^{\\theta}x^{-(\\theta+1)}, x>c, c>0, \\theta>1$;\n",
    "\n",
    "\n",
    "\n",
    "\n",
    "\n",
    "</font>"
   ]
  },
  {
   "cell_type": "markdown",
   "metadata": {},
   "source": [
    "解:（1）由于 $x_{1}, x_{2}, ... , x_{n}$ 是样本. 于是似然函数为：\n",
    "\n",
    "$L(\\theta)=L(x_{1}, x_{2}, ... , x_{n};\\theta)=\\sqrt{\\theta}x_{1}^{\\sqrt{\\theta}-1}\\cdot\\sqrt{\\theta}x_{2}^{\\sqrt{\\theta}-1}\\cdot\\cdot\\cdot\\sqrt{\\theta}x_{n}^{\\sqrt{\\theta}-1}$\n",
    "\n",
    "$=\\prod_{i=1}^n\\sqrt{\\theta}x_{i}^{\\sqrt{\\theta}-1}$\n",
    "\n",
    "$=\\theta^{\\frac{n}{2}}\\prod_{i=1}^nx_{i}^{\\sqrt{\\theta}-1}$.\n",
    "\n",
    "两边取对数，$lnL=lnL(\\theta)=ln(\\theta^{\\frac{n}{2}}\\prod_{i=1}^nx_{i}^{\\sqrt{\\theta}-1})$\n",
    "\n",
    "$=ln\\theta^{\\frac{n}{2}}+ln\\prod_{i=1}^nx_{i}^{\\sqrt{\\theta}-1}$\n",
    "\n",
    "$=\\frac{n}{2}ln\\theta+\\sum_{i=1}^nlnx_{i}^{\\sqrt{\\theta}-1}$\n",
    "\n",
    "$=\\frac{n}{2}ln\\theta+(\\sqrt{\\theta}-1)\\sum_{i=1}^nlnx_{i}$.\n",
    "\n",
    "对$L$求$\\theta$的偏导，得$\\frac{\\partial lnL}{\\partial \\theta}=\\frac{n}{2}·\\frac{1}{\\theta}+\\frac{1}{2}·\\frac{1}{\\sqrt{\\theta}}\\sum_{i=1}^nlnx_{i}=\\frac{n}{2\\theta}+\\frac{\\sum_{i=1}^nlnx_{i}}{2\\sqrt{\\theta}}$.\n",
    "\n",
    "于是方程：$\\frac{\\partial lnL}{\\partial \\theta}=0$，亦即$\\frac{n}{2\\theta}+\\frac{\\sum_{i=1}^nlnx_{i}}{2\\sqrt{\\theta}}=0$，解得： $\\theta=(\\frac{n}{\\sum_{i=1}^nlnx_{i}})^{2}$.\n",
    "\n",
    "\n",
    "（2）由于 $x_{1}, x_{2}, ... , x_{n}$ 是样本. 于是似然函数为：\n",
    "\n",
    "$L(\\theta)=L(x_{1}, x_{2}, ... , x_{n};\\theta)=\\theta c^{\\theta}x_{1}^{-(\\theta+1)}·\\theta c^{\\theta}x_{2}^{-(\\theta+1)}···\\theta c^{\\theta}x_{n}^{-(\\theta+1)}$\n",
    "\n",
    "$=\\prod_{i=1}^n\\theta c^{\\theta}x_{i}^{-(\\theta+1)}$\n",
    "\n",
    "$=\\theta^{n}c^{n\\theta}\\prod_{i=1}^nx_{i}^{-(\\theta+1)}$.\n",
    "\n",
    "两边取对数，$lnL=lnL(\\theta)=ln(\\theta^{n}c^{n\\theta}\\prod_{i=1}^nx_{i}^{-(\\theta+1)})$\n",
    "\n",
    "$=ln\\theta^{n}+lnc^{n\\theta}+\\sum_{i=1}^nlnx_{i}^{-(\\theta+1)}$\n",
    "\n",
    "$=nln\\theta+n\\theta lnc-(\\theta+1)\\sum_{i=1}^nlnx_{i}$.\n",
    "\n",
    "对$L$求$\\theta$的偏导，得$\\frac{\\partial lnL}{\\partial \\theta}=\\frac{n}{\\theta}+nlnc-\\sum_{i=1}^nlnx_{i}$.\n",
    "\n",
    "于是方程：$\\frac{\\partial lnL}{\\partial \\theta}=0$，亦即$\\frac{\\partial lnL}{\\partial \\theta}=\\frac{n}{\\theta}+nlnc-\\sum_{i=1}^nlnx_{i}=0$，解得： $\\theta=\\frac{n}{\\sum_{i=1}^nlnx_{i}-nlnc}$.\n"
   ]
  },
  {
   "cell_type": "markdown",
   "metadata": {},
   "source": [
    "<script type=\"text/javascript\" src=\"http://cdn.mathjax.org/mathjax/latest/MathJax.js?config=default\"></script><font size=4>\n",
    "\n",
    "2.假如有一个罐子, 里面有黑白两种颜色的球, 数目多少不知, 两种颜色的比例也不知. 我们想知道罐中白球和黑球的比例, 但我们不能把罐中的球全部拿出来数(球太多了, 耽误我上王者). 现在我们可以进行100次实验, 每次实验都拿出10个球, 记录下白球的数量. 假设这100次实验都相与独立的, 请问罐中白球所占的比例最有可能是多少? 实验的数据如下:\n",
    "\n",
    "\n",
    "| 拿出白球的数量 | 0 | 1 | 2 | 3 | 4 | 5 | 6 | 7 | 8 | 9 | 10 |\n",
    "|:----------------:|:-:|:-:|:-:|:-:|:-:|:-:|:-:|:-:|:-:|:-:|:--:|\n",
    "| 实验次数      | 0 | 1 | 6 | 7 | 23 | 26 | 21 | 12 | 3 | 1 | 0 |\n",
    "\n",
    "tips: 变量X为每次实验中拿出白球的个数, 且X服从二项分布Bin(x|10, p).\n",
    "\n",
    "\n",
    "</font>"
   ]
  },
  {
   "cell_type": "markdown",
   "metadata": {},
   "source": [
    "<script type=\"text/javascript\" src=\"http://cdn.mathjax.org/mathjax/latest/MathJax.js?config=default\"></script><font size=4>\n",
    "\n",
    "解: 变量$X$为每次实验中拿出白球的个数, 且X服从二项分布$Bin(x|10, p)$，其中$p$为取得白球的概率.\n",
    "\n",
    "设$x_{i}$为每一次实验取得白球的数量为$i$，$k_{i}$表示实验后出现白球数量为$i$的实验的次数，这里$i=0,1,...,10$.\n",
    "\n",
    "则$x_{i}$服从二项分布$Bin(x_{i}|10, p)$.\n",
    "\n",
    "于是似然函数为：\n",
    "\n",
    "$L(p)=L(x_{0}, x_{1}, ... , x_{10};p)$\n",
    "\n",
    "$=[p^{x_{0}}(1-p)^{10-x_{0}}]^{k_{0}}\\cdot[p^{x_{1}}(1-p)^{10-x_{1}}]^{k_{1}}\\cdot\\cdot\\cdot[p^{x_{10}}(1-p)^{10-x_{10}}]^{k_{10}}$\n",
    "\n",
    "$=\\prod_{i=0}^{10}[p^{x_{i}}(1-p)^{10-x_{i}}]^{k_{i}}$\n",
    "\n",
    "两边取对数，$lnL=lnL(p)=ln(\\prod_{i=0}^{10}[p^{x_{i}}(1-p)^{10-x_{i}}]^{k_{i}})$\n",
    "\n",
    "$=\\sum_{i=0}^{10}ln[p^{x_{i}}(1-p)^{10-x_{i}}]^{k_{i}}$\n",
    "\n",
    "$=\\sum_{i=0}^{10}{k_{i}ln[p^{x_{i}}(1-p)^{10-x_{i}}]}$\n",
    "\n",
    "$=\\sum_{i=0}^{10}{k_{i}lnp^{x_{i}}}+\\sum_{i=0}^{10}{k_{i}ln(1-p)^{10-x_{i}}}$\n",
    "\n",
    "$=\\sum_{i=0}^{10}{k_{i}x_{i}lnp}+\\sum_{i=0}^{10}{k_{i}(10-x_{i})ln(1-p)}$\n",
    "\n",
    "$=lnp\\sum_{i=0}^{10}{k_{i}x_{i}}+ln(1-p)\\sum_{i=0}^{10}{k_{i}(10-x_{i})}$.\n",
    "\n",
    "对$L$求$p$的偏导，得$\\frac{\\partial lnL}{\\partial p}=\\frac{\\sum_{i=0}^{10}{k_{i}x_{i}}}{p}-\\frac{\\sum_{i=0}^{10}{k_{i}(10-x_{i})}}{1-p}$.\n",
    "\n",
    "于是方程：$\\frac{\\partial lnL}{\\partial p}=0$，亦即$\\frac{\\sum_{i=0}^{10}{k_{i}x_{i}}}{p}-\\frac{\\sum_{i=0}^{10}{k_{i}(10-x_{i})}}{1-p}=0$，解得： $p=\\frac{\\sum_{i=0}^{10}{k_{i}x_{i}}}{10\\sum_{i=0}^{10}{k_{i}}}$.\n",
    "\n",
    "代入数据得：$p=0.499$.\n",
    "\n",
    "故，罐中白球所占的比例最有可能是值是0.499.\n"
   ]
  },
  {
   "cell_type": "markdown",
   "metadata": {},
   "source": [
    "遇到不会输入的数学符号, 可以参考《LATEX数学符号表.pdf》文献中的说明, Markdown的公式输入与Latex相类似, 现在多掌握一下Markdown的公式输入, 对你以后的Latex写作是很有帮助."
   ]
  },
  {
   "cell_type": "markdown",
   "metadata": {},
   "source": [
    "参考文献:\n",
    "\n",
    "[1]茆诗松, 程依明, 濮晓龙, 等. 概率论与数理统计教程 (第二版). 北京: 高等教育出版社, 2011."
   ]
  },
  {
   "cell_type": "code",
   "execution_count": null,
   "metadata": {
    "collapsed": true
   },
   "outputs": [],
   "source": []
  },
  {
   "cell_type": "markdown",
   "metadata": {},
   "source": [
    "如果你有什么疑问或者收获, 你可以在这里记录下来.\n",
    "###"
   ]
  },
  {
   "cell_type": "code",
   "execution_count": null,
   "metadata": {
    "collapsed": true
   },
   "outputs": [],
   "source": []
  },
  {
   "cell_type": "code",
   "execution_count": null,
   "metadata": {
    "collapsed": true
   },
   "outputs": [],
   "source": []
  }
 ],
 "metadata": {
  "kernelspec": {
   "display_name": "Python 3",
   "language": "python",
   "name": "python3"
  },
  "language_info": {
   "codemirror_mode": {
    "name": "ipython",
    "version": 3
   },
   "file_extension": ".py",
   "mimetype": "text/x-python",
   "name": "python",
   "nbconvert_exporter": "python",
   "pygments_lexer": "ipython3",
   "version": "3.6.1"
  }
 },
 "nbformat": 4,
 "nbformat_minor": 2
}
